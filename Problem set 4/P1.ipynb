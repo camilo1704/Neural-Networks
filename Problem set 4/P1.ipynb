{
 "cells": [
  {
   "cell_type": "code",
   "execution_count": 6,
   "metadata": {},
   "outputs": [],
   "source": [
    "import numpy as np\n",
    "import math\n",
    "from PIL import Image               \n",
    "from IPython.display import display # to display images\n",
    "pil_im = Image.open('red1.png')\n"
   ]
  },
  {
   "cell_type": "markdown",
   "metadata": {},
   "source": [
    "# Backpropagation Algorithm \n",
    "Programming the backpropagation algorithm of the network showed bellow. Then, the network learns the XOR problem to show that the algorithm worked. \n"
   ]
  },
  {
   "cell_type": "code",
   "execution_count": 7,
   "metadata": {},
   "outputs": [
    {
     "data": {
      "image/png": "[encoded data removed]",
      "text/plain": [
       "<PIL.PngImagePlugin.PngImageFile image mode=RGBA size=312x204 at 0x7FDE5B8AD9B0>"
      ]
     },
     "metadata": {},
     "output_type": "display_data"
    }
   ],
   "source": [
    "display(pil_im)"
   ]
  },
  {
   "cell_type": "code",
   "execution_count": 8,
   "metadata": {},
   "outputs": [],
   "source": [
    "def g(x):\n",
    "    return math.tanh(x)     #Activation Function\n",
    "        \n",
    "P=[[1,1],[-1,-1],[-1,1],[1,-1]] # Input \n",
    "S=[[1],[-1]] #Expected outputs"
   ]
  },
  {
   "cell_type": "code",
   "execution_count": 15,
   "metadata": {},
   "outputs": [],
   "source": [
    "eta=0.008\n",
    "def prop(Patrones,W11,W12,W21,W22,W31,W41,b1,b2,b3):\n",
    "\tDJ41=0\n",
    "\tDJ31=0\n",
    "\tDb3=0\n",
    "\tDb2=0\n",
    "\tDb1=0\n",
    "\tDJ11=0\n",
    "\tDJ21=0\n",
    "\tDJ12=0\n",
    "\tDJ22=0\n",
    "\tE=0\n",
    "\tS1=[]\n",
    "\t\n",
    "\tfor P in Patrones[0:2]:\n",
    "\t\toutput=1\n",
    "\t\tV1=g(P[0]*W11+P[1]*W21+b1)\n",
    "\t\tV2=g(P[0]*W12+P[1]*W22+b2)\n",
    "\t\tS=g(V1*W31+V2*W41+b3)\n",
    "\t\tE+=(S-output)*(S-output)\n",
    "\t\td5=(output-S)*(1-g(V1*W31+V2*W41+b3)*g(V1*W31+V2*W41+b3))\n",
    "\t\td3=(1-V1*V1)*d5*W31\n",
    "\t\td4=(1-V2*V2)*d5*W41\n",
    "\t\t\n",
    "\t\tDJ41+=eta*(d5*V2)\n",
    "\t\tDJ31+=eta*(d5*V1)\n",
    "\t\tDb3+=eta*d5\n",
    "\t\tDb2+=eta*d4\n",
    "\t\tDb1+=eta*d3\n",
    "\t\tDJ11+=eta*d3*P[0]\n",
    "\t\tDJ21+=eta*d3*P[1]\n",
    "\t\tDJ12+=eta*d4*P[0]\n",
    "\t\tDJ22+=eta*d4*P[1]\n",
    "\t\t\n",
    "\tfor P in Patrones[2:4]:\n",
    "        output=-1\n",
    "\t\tV1=g(P[0]*W11+P[1]*W21+b1)\n",
    "\t\tV2=g(P[0]*W12+P[1]*W22+b2)\n",
    "\t\tS=g(V1*W31+V2*W41+b3)\n",
    "\t\tE+=(S-output)*(S-output)\n",
    "\t\td5=(output-S)*(1-g(V1*W31+V2*W41+b3)*g(V1*W31+V2*W41+b3))\n",
    "\t\td3=(1-V1*V1)*d5*W31\n",
    "\t\td4=(1-V2*V2)*d5*W41\n",
    "\t\t\n",
    "\t\tDJ41+=eta*(d5*V2)\n",
    "\t\tDJ31+=eta*(d5*V1)\n",
    "\t\tDb3+=eta*d5\n",
    "\t\tDb2+=eta*d4\n",
    "\t\tDb1+=eta*d3\n",
    "\t\tDJ11+=eta*d3*P[0]\n",
    "\t\tDJ21+=eta*d3*P[1]\n",
    "\t\tDJ12+=eta*d4*P[0]\n",
    "\t\tDJ22+=eta*d4*P[1]\n",
    "\t\t\n",
    "\tW11+=DJ11\n",
    "\tW12+=DJ12\n",
    "\tW21+=DJ21\n",
    "\tW22+=DJ22\n",
    "\tW31+=DJ31\n",
    "\tW41+=DJ41\n",
    "\tb1+=Db1\n",
    "\tb2+=Db2\n",
    "\tb3+=Db3\t\n",
    "\t\n",
    "\treturn 0.5*math.sqrt(E)\n",
    "error0=0\n",
    "error1=0\n",
    "stop=False\n",
    "E=[0]\n",
    "W11=np.random.rand(1)*1\n",
    "W12=np.random.rand(1)*1\n",
    "W21=np.random.rand(1)*1\n",
    "W22=np.random.rand(1)*1\n",
    "W31=np.random.rand(1)*1\n",
    "W41=np.random.rand(1)*1\n",
    "b1=np.random.rand(1)*1\n",
    "b2=np.random.rand(1)*1\n",
    "b3=np.random.rand(1)*1\n",
    "while not stop:\n",
    "\tfor i in range(1500000):\n",
    "\t\tpatrones=P\n",
    "\t\t\n",
    "\t\terror1=prop(patrones,W11,W12,W21,W22,W31,W41,b1,b2,b3)\n",
    "\t\tE.append(error1)\n",
    "\t\tif((E[i+1]>E[i])&i>200):\n",
    "\t\t\tstop=True\n",
    "\t\t\tbreak\n",
    "\t\tif (error1<0.03):\n",
    "\t\t\t#np.save('E1.npy',E)\n",
    "\t\t\tstop=True\n",
    "\t\t\tbreak\n"
   ]
  },
  {
   "cell_type": "code",
   "execution_count": 29,
   "metadata": {},
   "outputs": [
    {
     "data": {
      "image/png": "[encoded data removed]",
      "text/plain": [
       "<Figure size 432x288 with 1 Axes>"
      ]
     },
     "metadata": {},
     "output_type": "display_data"
    }
   ],
   "source": [
    "import matplotlib.pyplot as plt \n",
    "plt.plot(E[1:])\n",
    "plt.grid(alpha=0.5)\n",
    "plt.title('MRSE vs epoch',fontsize=16,fontweight='bold')\n",
    "plt.ylabel('MRSE',fontsize=14,fontweight='bold', color='darkblue')\n",
    "plt.xlabel('Epoch',fontsize=14,fontweight='bold', color='darkblue')\n",
    "\n",
    "plt.show()"
   ]
  },
  {
   "cell_type": "code",
   "execution_count": null,
   "metadata": {},
   "outputs": [],
   "source": []
  }
 ],
 "metadata": {
  "kernelspec": {
   "display_name": "Python 3",
   "language": "python",
   "name": "python3"
  },
  "language_info": {
   "codemirror_mode": {
    "name": "ipython",
    "version": 3
   },
   "file_extension": ".py",
   "mimetype": "text/x-python",
   "name": "python",
   "nbconvert_exporter": "python",
   "pygments_lexer": "ipython3",
   "version": "3.6.5"
  }
 },
 "nbformat": 4,
 "nbformat_minor": 2
}
